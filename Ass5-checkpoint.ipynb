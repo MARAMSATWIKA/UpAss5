{
 "cells": [
  {
   "cell_type": "markdown",
   "id": "961dc9f2",
   "metadata": {},
   "source": [
    "## 1st Solution"
   ]
  },
  {
   "cell_type": "code",
   "execution_count": 202,
   "id": "90a77fbd",
   "metadata": {},
   "outputs": [],
   "source": [
    "class Point:\n",
    "    def __init__(self,x,y,z):\n",
    "        self.x=x\n",
    "        self.y=y\n",
    "        self.z=z\n",
    "    def sqSum(self):\n",
    "        sum_of_sq=0\n",
    "        for i in (self.x,self.y,self.z):\n",
    "            squares=i*i\n",
    "            print(\"square of individual parameter\",i,\"=\",squares)\n",
    "            sum_of_sq=squares+sum_of_sq\n",
    "        print(\"Sum of squares of parameters passed =\",sum_of_sq)\n"
   ]
  },
  {
   "cell_type": "code",
   "execution_count": 203,
   "id": "426f1a4c",
   "metadata": {},
   "outputs": [],
   "source": [
    "sqssum=Point(1,3,5)"
   ]
  },
  {
   "cell_type": "code",
   "execution_count": 204,
   "id": "19956bfe",
   "metadata": {},
   "outputs": [
    {
     "name": "stdout",
     "output_type": "stream",
     "text": [
      "square of individual parameter 1 = 1\n",
      "square of individual parameter 3 = 9\n",
      "square of individual parameter 5 = 25\n",
      "Sum of squares of parameters passed = 35\n"
     ]
    }
   ],
   "source": [
    "sqssum.sqSum()"
   ]
  },
  {
   "cell_type": "code",
   "execution_count": null,
   "id": "5ba35217",
   "metadata": {},
   "outputs": [],
   "source": []
  },
  {
   "cell_type": "markdown",
   "id": "61edc230",
   "metadata": {},
   "source": [
    "## 2nd Solution"
   ]
  },
  {
   "cell_type": "code",
   "execution_count": 205,
   "id": "12d1102f",
   "metadata": {},
   "outputs": [],
   "source": [
    "class Calculator:\n",
    "    def __init__(self,num1,num2):\n",
    "        self.num1=num1\n",
    "        self.num2=num2\n",
    "    def add(self):\n",
    "        return self.num1+self.num2\n",
    "    def subtract(self):\n",
    "        return self.num2-self.num1\n",
    "    def multiply(self):\n",
    "        return (self.num1)*(self.num2)\n",
    "    def divide(self):\n",
    "        return (self.num2/self.num1)"
   ]
  },
  {
   "cell_type": "code",
   "execution_count": 206,
   "id": "14ca9fa9",
   "metadata": {},
   "outputs": [],
   "source": [
    "obj=Calculator(10,94)"
   ]
  },
  {
   "cell_type": "code",
   "execution_count": 207,
   "id": "5e0b0860",
   "metadata": {},
   "outputs": [
    {
     "data": {
      "text/plain": [
       "104"
      ]
     },
     "execution_count": 207,
     "metadata": {},
     "output_type": "execute_result"
    }
   ],
   "source": [
    "obj.add()\n"
   ]
  },
  {
   "cell_type": "code",
   "execution_count": 208,
   "id": "b36b737e",
   "metadata": {},
   "outputs": [
    {
     "data": {
      "text/plain": [
       "84"
      ]
     },
     "execution_count": 208,
     "metadata": {},
     "output_type": "execute_result"
    }
   ],
   "source": [
    "obj.subtract()\n"
   ]
  },
  {
   "cell_type": "code",
   "execution_count": 209,
   "id": "aad9c1ca",
   "metadata": {},
   "outputs": [
    {
     "data": {
      "text/plain": [
       "940"
      ]
     },
     "execution_count": 209,
     "metadata": {},
     "output_type": "execute_result"
    }
   ],
   "source": [
    "obj.multiply()\n"
   ]
  },
  {
   "cell_type": "code",
   "execution_count": 210,
   "id": "07d56bdb",
   "metadata": {},
   "outputs": [
    {
     "data": {
      "text/plain": [
       "9.4"
      ]
     },
     "execution_count": 210,
     "metadata": {},
     "output_type": "execute_result"
    }
   ],
   "source": [
    "obj.divide()"
   ]
  },
  {
   "cell_type": "markdown",
   "id": "57c98729",
   "metadata": {},
   "source": [
    "## 3rd Solution"
   ]
  },
  {
   "cell_type": "code",
   "execution_count": 211,
   "id": "00e2c0d8",
   "metadata": {},
   "outputs": [
    {
     "name": "stdout",
     "output_type": "stream",
     "text": [
      "Student1 Name: Maram\n",
      "Student1 Roll Number: 31\n"
     ]
    }
   ],
   "source": [
    "#properties are private\n",
    "class Student:\n",
    "    __name=None\n",
    "    __rollNumber=None\n",
    "  \n",
    "    def getName(x):\n",
    "        return x.__name\n",
    "   \n",
    "    def setName(x,name):\n",
    "        x.__name=name      \n",
    "    \n",
    "    def getRollNumber(x):\n",
    "        return x.__rollNumber\n",
    "    \n",
    "    def setRollNumber(x,rollNumber):\n",
    "        x.__rollNumber=rollNumber\n",
    "student1=Student()\n",
    "student1.setName(\"Maram\")\n",
    "print(\"Student1 Name:\",student1.getName())\n",
    "student1.setRollNumber(31)\n",
    "print(\"Student1 Roll Number:\",student1.getRollNumber())"
   ]
  },
  {
   "cell_type": "markdown",
   "id": "1bf63e25",
   "metadata": {},
   "source": [
    "#### As the properties name and rollnumber had made as private.They are not accessible by objectname.Checking is done below..."
   ]
  },
  {
   "cell_type": "code",
   "execution_count": 212,
   "id": "ea770393",
   "metadata": {},
   "outputs": [
    {
     "ename": "AttributeError",
     "evalue": "'Student' object has no attribute '__rollNumber'",
     "output_type": "error",
     "traceback": [
      "\u001b[1;31m---------------------------------------------------------------------------\u001b[0m",
      "\u001b[1;31mAttributeError\u001b[0m                            Traceback (most recent call last)",
      "\u001b[1;32mC:\\Users\\MARAMS~1\\AppData\\Local\\Temp/ipykernel_18644/4029254627.py\u001b[0m in \u001b[0;36m<module>\u001b[1;34m\u001b[0m\n\u001b[0;32m      1\u001b[0m \u001b[1;31m#checking private property rollnumber\u001b[0m\u001b[1;33m\u001b[0m\u001b[1;33m\u001b[0m\u001b[0m\n\u001b[1;32m----> 2\u001b[1;33m \u001b[0mstudent1\u001b[0m\u001b[1;33m.\u001b[0m\u001b[0m__rollNumber\u001b[0m\u001b[1;33m\u001b[0m\u001b[1;33m\u001b[0m\u001b[0m\n\u001b[0m",
      "\u001b[1;31mAttributeError\u001b[0m: 'Student' object has no attribute '__rollNumber'"
     ]
    }
   ],
   "source": [
    "#checking private property rollnumber\n",
    "student1.__rollNumber"
   ]
  },
  {
   "cell_type": "code",
   "execution_count": 213,
   "id": "fdeae40f",
   "metadata": {},
   "outputs": [
    {
     "ename": "AttributeError",
     "evalue": "'Student' object has no attribute '__name'",
     "output_type": "error",
     "traceback": [
      "\u001b[1;31m---------------------------------------------------------------------------\u001b[0m",
      "\u001b[1;31mAttributeError\u001b[0m                            Traceback (most recent call last)",
      "\u001b[1;32mC:\\Users\\MARAMS~1\\AppData\\Local\\Temp/ipykernel_18644/3921129799.py\u001b[0m in \u001b[0;36m<module>\u001b[1;34m\u001b[0m\n\u001b[0;32m      1\u001b[0m \u001b[1;31m#checking private property name\u001b[0m\u001b[1;33m\u001b[0m\u001b[1;33m\u001b[0m\u001b[0m\n\u001b[1;32m----> 2\u001b[1;33m \u001b[0mstudent1\u001b[0m\u001b[1;33m.\u001b[0m\u001b[0m__name\u001b[0m\u001b[1;33m\u001b[0m\u001b[1;33m\u001b[0m\u001b[0m\n\u001b[0m",
      "\u001b[1;31mAttributeError\u001b[0m: 'Student' object has no attribute '__name'"
     ]
    }
   ],
   "source": [
    "#checking private property name\n",
    "student1.__name"
   ]
  },
  {
   "cell_type": "code",
   "execution_count": null,
   "id": "1a3f518b",
   "metadata": {},
   "outputs": [],
   "source": []
  },
  {
   "cell_type": "markdown",
   "id": "f23e19f6",
   "metadata": {},
   "source": [
    "## 4th Solution"
   ]
  },
  {
   "cell_type": "code",
   "execution_count": 215,
   "id": "c17130bd",
   "metadata": {},
   "outputs": [
    {
     "name": "stdout",
     "output_type": "stream",
     "text": [
      "Ashish is the title of Acnt1 and  5000 is the Acnt1 balance\n",
      "Ashish is the title of Acnt2, 5000 is the Acnt2 balance and  5 is the interestRate\n"
     ]
    }
   ],
   "source": [
    "class Account:\n",
    "    def __init__(self,title=None,balance=0):\n",
    "        self.title=title\n",
    "        self.balance=balance\n",
    "class SavingsAccount(Account):\n",
    "    def __init__(self,title,balance,interestRate=0):\n",
    "        super().__init__(title,balance)\n",
    "        self.interestRate=interestRate\n",
    "Acnt1=Account(\"Ashish\",5000)\n",
    "print(Acnt1.title,\"is the title of Acnt1 and \",Acnt1.balance,\"is the Acnt1 balance\")\n",
    "Acnt2=SavingsAccount(\"Ashish\",5000,5)\n",
    "print(Acnt2.title,\"is the title of Acnt2,\",Acnt2.balance,\"is the Acnt2 balance and \",Acnt2.interestRate,\"is the interestRate\")"
   ]
  },
  {
   "cell_type": "code",
   "execution_count": null,
   "id": "c827aa9f",
   "metadata": {},
   "outputs": [],
   "source": []
  },
  {
   "cell_type": "markdown",
   "id": "2973cbc3",
   "metadata": {},
   "source": [
    "## 5th Solution"
   ]
  },
  {
   "cell_type": "code",
   "execution_count": 216,
   "id": "4a0ab0cb",
   "metadata": {},
   "outputs": [
    {
     "name": "stdout",
     "output_type": "stream",
     "text": [
      "Balance before transaction: 2000\n",
      "Balance after deposit is: 2500\n",
      "Balance after withdrawal is: 2300\n",
      "Interest Amount is: 100.0\n"
     ]
    }
   ],
   "source": [
    "class Account:\n",
    "    def __init__(self,title=None,balance=0):\n",
    "        self.title=title\n",
    "        self.balance=balance\n",
    "    def withdrawal(self,amount):\n",
    "        self.balance-=amount\n",
    "    def deposit(self,amount):\n",
    "        self.balance+=amount\n",
    "    def getBalance(self):\n",
    "        return self.balance\n",
    "class SavingsAccount(Account):\n",
    "    def __init__(self,title,balance,interestRate=0):\n",
    "        super().__init__(title,balance)\n",
    "        self.interestRate=interestRate\n",
    "    def interestAmount(self):\n",
    "        return ((self.interestRate*self.balance)/100)\n",
    "    \n",
    "ashish_acnt=Account(\"Ashish\",2000)\n",
    "print(\"Balance before transaction:\",ashish_acnt.getBalance())\n",
    "\n",
    "ashish_acnt.deposit(500)\n",
    "print(\"Balance after deposit is:\",ashish_acnt.getBalance())\n",
    "\n",
    "ashish_acnt.withdrawal(200)\n",
    "print(\"Balance after withdrawal is:\",ashish_acnt.getBalance())\n",
    "\n",
    "ashish_svacnt=SavingsAccount(\"Ashish\",2000,5)\n",
    "print(\"Interest Amount is:\",ashish_svacnt.interestAmount())\n",
    "    "
   ]
  },
  {
   "cell_type": "code",
   "execution_count": null,
   "id": "60ad931c",
   "metadata": {},
   "outputs": [],
   "source": []
  },
  {
   "cell_type": "code",
   "execution_count": null,
   "id": "c6d260f3",
   "metadata": {},
   "outputs": [],
   "source": []
  }
 ],
 "metadata": {
  "kernelspec": {
   "display_name": "Python 3 (ipykernel)",
   "language": "python",
   "name": "python3"
  },
  "language_info": {
   "codemirror_mode": {
    "name": "ipython",
    "version": 3
   },
   "file_extension": ".py",
   "mimetype": "text/x-python",
   "name": "python",
   "nbconvert_exporter": "python",
   "pygments_lexer": "ipython3",
   "version": "3.9.7"
  }
 },
 "nbformat": 4,
 "nbformat_minor": 5
}
